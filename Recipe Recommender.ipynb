{
 "cells": [
  {
   "cell_type": "code",
   "execution_count": 1,
   "id": "11a89bdc",
   "metadata": {},
   "outputs": [],
   "source": [
    "#import statements\n",
    "import pandas as pd\n",
    "import numpy as np\n",
    "from numpy.linalg import norm\n",
    "from numpy import dot\n",
    "import matplotlib.pyplot as plt\n",
    "from sklearn.feature_extraction.text import CountVectorizer\n",
    "from sklearn.metrics.pairwise import cosine_similarity\n",
    "from scipy.sparse import csr_matrix\n",
    "from sklearn.neighbors import NearestNeighbors\n",
    "import seaborn as sns\n",
    "from keras.models import Sequential\n",
    "from keras.layers import Dense\n",
    "import matplotlib"
   ]
  },
  {
   "cell_type": "markdown",
   "id": "3c631b0a",
   "metadata": {},
   "source": [
    "# Task 1"
   ]
  },
  {
   "cell_type": "markdown",
   "id": "a2f3e68e",
   "metadata": {},
   "source": [
    "Load the data and identify and treat possible missing values"
   ]
  },
  {
   "cell_type": "code",
   "execution_count": 2,
   "id": "accb4248",
   "metadata": {
    "scrolled": true
   },
   "outputs": [],
   "source": [
    "recipes=pd.read_csv('recipes.csv')\n",
    "recipes=recipes.drop(\"Unnamed: 0\", axis=1) #Dropped unwanted column              \n",
    "recipes.replace(to_replace='^ $', value=np.nan, regex=True, inplace=True) #Doesn't have recognisable na or null, na here is an empty string\n",
    "#print(recipes.isna().sum())   #Uncomment to view - (there is 50 for category, 1419 for cuisine)\n",
    "recipes=recipes.fillna(\"Unknown\") #Only \"Unknown\" column will be dropped in features for below recommmender systems and models, to avoid deleting a significat amount of rows\n",
    "#print(recipes.isna().sum())   #Uncomment to view (there is none) \n",
    "#print(recipes.isnull().sum()) #Uncomment to view (there is none)\n",
    "\n",
    "#print(recipes.dtypes)#Uncomment to view\n",
    "#Correcting dtypes\n",
    "recipes['title'] = recipes['title'].astype(\"string\")\n",
    "recipes['image_url'] = recipes['image_url'].astype(\"string\")\n",
    "recipes['recipe_url'] = recipes['recipe_url'].astype(\"string\")\n",
    "recipes['category'] = recipes['category'].astype(\"string\")\n",
    "recipes['cuisine'] = recipes['cuisine'].astype(\"string\")\n",
    "recipes['ingredients'] = recipes['ingredients'].astype(\"string\")\n",
    "#print(recipes.dtypes)#Uncomment to view"
   ]
  },
  {
   "cell_type": "markdown",
   "id": "82c0aa16",
   "metadata": {},
   "source": [
    "Show the summary statistics "
   ]
  },
  {
   "cell_type": "code",
   "execution_count": 3,
   "id": "c87944c8",
   "metadata": {},
   "outputs": [
    {
     "name": "stdout",
     "output_type": "stream",
     "text": [
      "(3293, 10)\n",
      "                id   rating_avg   rating_val   total_time\n",
      "count  3293.000000  3293.000000  3293.000000  3293.000000\n",
      "mean   1647.000000     4.497432    12.038567   127.227452\n",
      "std     950.751545     0.611602    25.221305   156.363779\n",
      "min       1.000000     1.000000     1.000000    30.000000\n",
      "25%     824.000000     4.250000     3.000000    60.000000\n",
      "50%    1647.000000     4.666667     6.000000    90.000000\n",
      "75%    2470.000000     5.000000    13.000000   150.000000\n",
      "max    3293.000000     5.000000   776.000000   840.000000\n"
     ]
    }
   ],
   "source": [
    "print(recipes.shape)       #3293 rows, 10 columns\n",
    "print(recipes.describe())  #Summary statistics"
   ]
  },
  {
   "cell_type": "markdown",
   "id": "1c6d4393",
   "metadata": {},
   "source": [
    "Show the 10 highest rated recipes"
   ]
  },
  {
   "cell_type": "code",
   "execution_count": 4,
   "id": "41ec184d",
   "metadata": {},
   "outputs": [
    {
     "name": "stdout",
     "output_type": "stream",
     "text": [
      "        id                                title  \\\n",
      "1646  1647                 Ma's macadamia salad   \n",
      "2419  2420                              Sangria   \n",
      "842    843         Cranberry and grape focaccia   \n",
      "840    841  Cranberry and chilli brioche wreath   \n",
      "1773  1774               Middle Eastern lentils   \n",
      "838    839                 Crackling pork belly   \n",
      "837    838                    Crackle top bread   \n",
      "836    837                        Crab linguine   \n",
      "2411  2412    Salted caramel and coffee éclairs   \n",
      "834    835              Crab and scallop Mornay   \n",
      "\n",
      "                                              image_url  \\\n",
      "1646  https://food-images.files.bbci.co.uk/food/reci...   \n",
      "2419  https://food-images.files.bbci.co.uk/food/reci...   \n",
      "842   https://food-images.files.bbci.co.uk/food/reci...   \n",
      "840   https://food-images.files.bbci.co.uk/food/reci...   \n",
      "1773  https://food-images.files.bbci.co.uk/food/reci...   \n",
      "838   https://food-images.files.bbci.co.uk/food/reci...   \n",
      "837   https://food-images.files.bbci.co.uk/food/reci...   \n",
      "836   https://food-images.files.bbci.co.uk/food/reci...   \n",
      "2411  https://food-images.files.bbci.co.uk/food/reci...   \n",
      "834   https://ichef.bbci.co.uk/images/ic/640xn/p017q...   \n",
      "\n",
      "                                             recipe_url  rating_avg  \\\n",
      "1646  https://www.bbc.co.uk/food/recipes/masmacadami...         5.0   \n",
      "2419   https://www.bbc.co.uk/food/recipes/sangria_93847         5.0   \n",
      "842   https://www.bbc.co.uk/food/recipes/cranberry_f...         5.0   \n",
      "840   https://www.bbc.co.uk/food/recipes/cranberry_a...         5.0   \n",
      "1773  https://www.bbc.co.uk/food/recipes/middle_east...         5.0   \n",
      "838   https://www.bbc.co.uk/food/recipes/crackling_p...         5.0   \n",
      "837   https://www.bbc.co.uk/food/recipes/crackle_top...         5.0   \n",
      "836   https://www.bbc.co.uk/food/recipes/crab_lingui...         5.0   \n",
      "2411  https://www.bbc.co.uk/food/recipes/salted_cara...         5.0   \n",
      "834   https://www.bbc.co.uk/food/recipes/crab_and_sc...         5.0   \n",
      "\n",
      "      rating_val  total_time              category  \\\n",
      "1646           1          60  Light meals & snacks   \n",
      "2419           3          30  Drinks and cocktails   \n",
      "842            1         180           Side dishes   \n",
      "840            2         750      Cakes and baking   \n",
      "1773           7         150           Main course   \n",
      "838            1         840           Main course   \n",
      "837            3          90      Cakes and baking   \n",
      "836            4          60           Main course   \n",
      "2411           3          90      Cakes and baking   \n",
      "834            1          90    Starters & nibbles   \n",
      "\n",
      "                         cuisine  \\\n",
      "1646                     Unknown   \n",
      "2419                     Unknown   \n",
      "842                      Unknown   \n",
      "840                      Unknown   \n",
      "1773  Turkish and Middle Eastern   \n",
      "838                      Unknown   \n",
      "837                      Unknown   \n",
      "836                      Italian   \n",
      "2411                      French   \n",
      "834                       French   \n",
      "\n",
      "                                            ingredients  \n",
      "1646  chicory, spring onion, red onion, shallot, cuc...  \n",
      "2419     orange, lemonade, orange juice, mint, red wine  \n",
      "842   grapes, cranberry, olive oil, flour, caster su...  \n",
      "840   cranberry, marmalade, chilli pepper, egg, milk...  \n",
      "1773  lemon juice, garlic, onion, chilli pepper, oli...  \n",
      "838   pork belly, lime, peach, garlic, chilli pepper...  \n",
      "837   vegetable oil, sunflower oil, rice flour, stro...  \n",
      "836   crab, garlic, chilli pepper, spring onion, oli...  \n",
      "2411  egg, milk, double cream, mascarpone, caster su...  \n",
      "834   crab, scallop, onion, milk, single cream, gruy...  \n"
     ]
    }
   ],
   "source": [
    "recipesSort=(recipes.sort_values(by=\"rating_avg\", ascending=False)) #Sorts by rating average\n",
    "print(recipesSort.head(10))"
   ]
  },
  {
   "cell_type": "markdown",
   "id": "f14edf8d",
   "metadata": {},
   "source": [
    "# Task 2"
   ]
  },
  {
   "cell_type": "markdown",
   "id": "bdb4ace0",
   "metadata": {},
   "source": [
    "Visualise the average ratings and the number of ratings and comment on any relationship that exist between rating_avg and rating_val."
   ]
  },
  {
   "cell_type": "markdown",
   "id": "b5f7c484",
   "metadata": {},
   "source": [
    "#### First we'll try and see if there is any correlation for the data (excluding outliers calculated)"
   ]
  },
  {
   "cell_type": "code",
   "execution_count": 5,
   "id": "b9d70a8e",
   "metadata": {},
   "outputs": [
    {
     "data": {
      "image/png": "[encoded data removed]",
      "text/plain": [
       "<Figure size 432x288 with 1 Axes>"
      ]
     },
     "metadata": {
      "needs_background": "light"
     },
     "output_type": "display_data"
    }
   ],
   "source": [
    "recipesPlot=recipes                           #Use this dataframe for task 2\n",
    "q1 = recipesPlot['rating_val'].quantile(0.25) #Gets the lower quartile\n",
    "q3 = recipesPlot['rating_val'].quantile(0.75) #Gets the upper quartile\n",
    "iqr = q3 - q1                                 #Calculates the Interquartile range\n",
    "lowerOutlierLimit=q1-(iqr*1.5)                #Calculates the \"lower limit\" with the outlier formula\n",
    "upperOutlierLimit=q3+(iqr*1.5)                #Calculates the \"upper limit\" for finding outliers , where any rating amount values higher is excluded as an outlier\n",
    "#print(lowerOutlierLimit) #Lower outlier limit = -12. As rating value amounts can't be lower than 0, this will not have an effect\n",
    "#print(upperOutlierLimit) #upper outlier limit = 28 .\n",
    "\n",
    "outliers = (recipesPlot['rating_val'] < lowerOutlierLimit) | (recipesPlot['rating_val'] > upperOutlierLimit) #Finds outlers in recipesPlot\n",
    "recipesPlot = recipesPlot.drop(recipesPlot.loc[outliers].index)  #Drops 270 outliers (8.1992% of original data)\n",
    "\n",
    "rating_avg_points=np.array(recipesPlot['rating_avg']) #An array of rating_avg\n",
    "rating_val_points=np.array(recipesPlot['rating_val']) #An array of rating_val\n",
    "\n",
    "plt.scatter(rating_val_points, rating_avg_points, color='c')\n",
    "plt.title(\"Scatter graph showing relationship between rating_avg and rating_val\")\n",
    "plt.xlabel(\"Number of ratings\")\n",
    "plt.ylabel(\"Rating averages\")\n",
    "plt.show()\n",
    "\n"
   ]
  },
  {
   "cell_type": "markdown",
   "id": "65c37b03",
   "metadata": {},
   "source": [
    "### Comment on relationship found in graph above\n",
    "#### Here we are using a scatter graph to try and look for any sort of pattern between rating averages and the number of ratings. \n",
    "\n",
    "#### We can see that for a smaller number of ratings (less than 5 ish) the rating averages plotted have a lot of spread and range, and as the number of ratings for a recipe increase in the graph, the rating averages become more consistent and less spread. \n",
    "\n",
    "#### As the number of ratings increase, the rating averages are more grouped towards a higher rating_avg than compared to having a small rating_avg\n",
    "\n",
    "#### This could be because popular recipes are those that have high ratings to them from the start, so they are shared around more as they are higher quality, and thus gain more higher ratings, without recieving a lot of greatly negative ratings.\n",
    "\n",
    "#### And those that are not good enough at the start don't get much ratings as people don't attempt the recipe due to their bad rating_avg as it indicates a low quality recipe, so users would look for another higher quality recipe"
   ]
  },
  {
   "cell_type": "markdown",
   "id": "cbaf2f34",
   "metadata": {},
   "source": [
    "#### Next we'll plot a 2d histogram plot, where each bin represents the frequency of data points.\n",
    "#### The purpose of this is to group the frequency of data points within ranges of values."
   ]
  },
  {
   "cell_type": "code",
   "execution_count": 6,
   "id": "ba3606e3",
   "metadata": {},
   "outputs": [
    {
     "data": {
      "image/png": "[encoded data removed]",
      "text/plain": [
       "<Figure size 432x288 with 2 Axes>"
      ]
     },
     "metadata": {
      "needs_background": "light"
     },
     "output_type": "display_data"
    }
   ],
   "source": [
    "plt.hist2d(rating_val_points,rating_avg_points, bins=7, norm=matplotlib.colors.LogNorm())\n",
    "\n",
    "plt.colorbar() #Shows level of frequency\n",
    "plt.title('2D histogram plot representing the joint frequency of rating averages and rating values')\n",
    "plt.xlabel(\"Number of ratings\")\n",
    "plt.ylabel(\"Rating averages\")\n",
    "plt.show()"
   ]
  },
  {
   "cell_type": "markdown",
   "id": "e80848c7",
   "metadata": {},
   "source": [
    "## Comment on relationship found in graph above"
   ]
  },
  {
   "cell_type": "markdown",
   "id": "b67ed010",
   "metadata": {},
   "source": [
    "#### The above graph shows us that a significant amount of recipes have a high rating average (>4.4) and are from recipes where the amount of ratings given are from a few amount of users.\n",
    "#### We can also see that for recipes where the number of ratings given are more per recipe, the frequency of these recipes with a high rating average decreases "
   ]
  },
  {
   "cell_type": "markdown",
   "id": "6a9f3ad0",
   "metadata": {},
   "source": [
    "#### The next final graph shows the distribution of rating _avg against rating_val, and will be used to suggest a threshold"
   ]
  },
  {
   "cell_type": "code",
   "execution_count": 7,
   "id": "49e1a587",
   "metadata": {},
   "outputs": [
    {
     "data": {
      "image/png": "[encoded data removed]",
      "text/plain": [
       "<Figure size 432x432 with 1 Axes>"
      ]
     },
     "metadata": {
      "needs_background": "light"
     },
     "output_type": "display_data"
    }
   ],
   "source": [
    "groupingRatingValue = [0, 2,4, 6,  8, 10,  12 , 14, 16, 18, 20, 22, 24, 26, 28]\n",
    "recipesPlot['rating_group'] = pd.cut(recipesPlot['rating_val'], bins=groupingRatingValue) #Separate the column values into different bins\n",
    "\n",
    "fig = plt.figure(figsize=(6, 6)) #To help data visually overlapping\n",
    "fig.clf()                        #To avoid overlap with previous plots\n",
    "ax = fig.gca()                   #Gets the axes objects, to help with creating the boxplot\n",
    "recipesPlot.boxplot(column=['rating_avg'], ax=ax, by=['rating_group']) #Plots boxplot\n",
    "ax.set_ylabel('Rating Average')\n",
    "\n",
    "ax.set_xticklabels(ax.get_xticklabels(), rotation=90)    #Aligns x-axis labels vertically to avoid text overlap\n",
    "plt.show()\n"
   ]
  },
  {
   "cell_type": "markdown",
   "id": "6af56061",
   "metadata": {},
   "source": [
    "## Comment on relationship found in graph above and a threshold suggestion for the number of ratings under which the rating can be considered as not significant."
   ]
  },
  {
   "cell_type": "markdown",
   "id": "0e37f177",
   "metadata": {},
   "source": [
    "#### Here we have plotted box plot for pairs of values until 28 (the upper limit where a rating_val is not an outlier)\n",
    "\n",
    "#### A key thing to notice here is that as rating_val increases, the spread of rating averages decreases and become more consistent, and there is less range in the outliers.\n",
    "\n",
    "#### From 1 to 6, there are more outliers spread out over most/all of possible rating averages, and after 6, the spread of outliers and values noticeably decreases and the points become closer to each other, showing more consistency in rating averages reflecting the quality of a recipe.\n",
    "\n",
    "## From this I will suggest a threshold where any rating_val equal to or under 6 should be ignored and considered as not significant, as the data is too erratic for them. Also as if there is less than 6 people giving a rating for a recipe, each of their views carries too much weight on the overall recipe rating average, causing too much bias, so should be ignored\n"
   ]
  },
  {
   "cell_type": "markdown",
   "id": "d88d5c78",
   "metadata": {},
   "source": [
    "# Task 3"
   ]
  },
  {
   "cell_type": "markdown",
   "id": "8b1ff036",
   "metadata": {},
   "source": [
    "Consider features:features=['title','rating_avg','rating_val','total_time','category','\n",
    "cuisine', 'ingredients']\n"
   ]
  },
  {
   "cell_type": "markdown",
   "id": "88b1046c",
   "metadata": {},
   "source": [
    "a) Add to your dataframe a column combine_features, which combines all the\n",
    "contents of the features in the given list features as a single string wherein\n",
    "each feature’s contents is separated from the other by one space string."
   ]
  },
  {
   "cell_type": "code",
   "execution_count": 8,
   "id": "eec1ca75",
   "metadata": {},
   "outputs": [],
   "source": [
    "combine_features=[]\n",
    "for i in recipes.index:  #iterates over each row in recipes dataframe\n",
    "    item=(recipes.loc[i, \"title\"])+\" \"+str(recipes.loc[i, \"rating_avg\"])+\" \"+str(recipes.loc[i, \"rating_val\"])+\" \"+str(recipes.loc[i, \"total_time\"])+\" \"+(recipes.loc[i, \"category\"])+\" \"+(recipes.loc[i, \"cuisine\"])+\" \"+(recipes.loc[i, \"ingredients\"]) #concatenates all features to include\n",
    "    combine_features.append((item))\n",
    "    \n",
    "#Converts the 2 lists to pandas series objects\n",
    "combine_features = pd.Series(combine_features) \n",
    "\n",
    "#Adds to the main dataframe (recipes) the combine_features column\n",
    "recipes['combine_features'] = combine_features\n"
   ]
  },
  {
   "cell_type": "markdown",
   "id": "93784fe6",
   "metadata": {},
   "source": [
    "b) Using the class CountVectorizer and the function cosine_similarity,\n",
    "compute the cosine similarity matrix from the resulting dataframe of the\n",
    "combined features"
   ]
  },
  {
   "cell_type": "code",
   "execution_count": 9,
   "id": "e8a8443f",
   "metadata": {},
   "outputs": [
    {
     "name": "stderr",
     "output_type": "stream",
     "text": [
      "C:\\Users\\mgadi\\anaconda3\\lib\\site-packages\\sklearn\\utils\\deprecation.py:87: FutureWarning: Function get_feature_names is deprecated; get_feature_names is deprecated in 1.0 and will be removed in 1.2. Please use get_feature_names_out instead.\n",
      "  warnings.warn(msg, category=FutureWarning)\n"
     ]
    },
    {
     "name": "stdout",
     "output_type": "stream",
     "text": [
      "[[1.         0.         0.         ... 0.09544271 0.0855921  0.03846154]\n",
      " [0.         1.         0.         ... 0.24525574 0.20619652 0.1111874 ]\n",
      " [0.         0.         1.         ... 0.05735393 0.         0.        ]\n",
      " ...\n",
      " [0.09544271 0.24525574 0.05735393 ... 1.         0.24779731 0.15907119]\n",
      " [0.0855921  0.20619652 0.         ... 0.24779731 1.         0.1711842 ]\n",
      " [0.03846154 0.1111874  0.         ... 0.15907119 0.1711842  1.        ]]\n"
     ]
    }
   ],
   "source": [
    "count_vectorizer = CountVectorizer(stop_words='text') # Creates the terms matrix, ignoring common no-meaning words (such as \"a\")\n",
    "count_vectorizer = CountVectorizer()\n",
    "sparse_matrix = count_vectorizer.fit_transform(combine_features) #sparse matrix only stores non zero values, to be more memory efficient\n",
    "doc_term_matrix=sparse_matrix.todense() #This is converted to dense matrix (which also stores 0s), but is needed for creating the cosine similarity matrix\n",
    "\n",
    "features_matrix = pd.DataFrame(doc_term_matrix,columns=count_vectorizer.get_feature_names()) #Converts to a dataframe with the features as column names\n",
    "features_matrix=features_matrix.drop(\"unknown\", axis=1) #Drop the nan column without dropping anywhole recipe rows, as it is not a distinctive feature\n",
    "\n",
    "cosine_similarity_matrix=(cosine_similarity(features_matrix, features_matrix)) #Calculates cosine similarity between all pairs of recipes\n",
    "\n",
    "print(cosine_similarity_matrix)"
   ]
  },
  {
   "cell_type": "markdown",
   "id": "245d3316",
   "metadata": {},
   "source": [
    "C) Consider the recipe ‘Chicken and coconut curry’. Relying on the vector space\n",
    "method, use a matrix-vector product to show the first 10 recipe\n",
    "recommendations for a user who has liked that particular recipe. Show the\n",
    "titles of these recommendations"
   ]
  },
  {
   "cell_type": "code",
   "execution_count": 10,
   "id": "a74c46ae",
   "metadata": {},
   "outputs": [
    {
     "name": "stdout",
     "output_type": "stream",
     "text": [
      "Top 10 recommendations 'Chicken and coconut curry' \n",
      "('Recipe ID: ', 3005, 'Name: ', 'Vegan blackeye bean curry', 'Similarity: ', 0.7419408268023738)\n",
      "('Recipe ID: ', 1448, 'Name: ', 'Indian fish curry', 'Similarity: ', 0.653537383101465)\n",
      "('Recipe ID: ', 1478, 'Name: ', 'Jamaican chicken curry', 'Similarity: ', 0.6535373831014649)\n",
      "('Recipe ID: ', 1571, 'Name: ', 'Leftover chicken curry', 'Similarity: ', 0.6454234490405723)\n",
      "('Recipe ID: ', 507, 'Name: ', 'Chicken curry (shorshe murgi)', 'Similarity: ', 0.636396103067893)\n",
      "('Recipe ID: ', 509, 'Name: ', 'Chicken curry with basmati rice', 'Similarity: ', 0.6340751391209737)\n",
      "('Recipe ID: ', 2499, 'Name: ', 'Simple chicken curry', 'Similarity: ', 0.6154574548966636)\n",
      "('Recipe ID: ', 777, 'Name: ', 'Coconut fish curry', 'Similarity: ', 0.6037383539249432)\n",
      "('Recipe ID: ', 488, 'Name: ', 'Chicken and vegetable balti', 'Similarity: ', 0.5987641593469991)\n",
      "('Recipe ID: ', 1210, 'Name: ', 'Goan fish curry', 'Similarity: ', 0.5976143046671967)\n"
     ]
    }
   ],
   "source": [
    "#Note : Row index = recipeID - 1\n",
    "features_matrix_normalised=features_matrix\n",
    "features_matrix_normalised=features_matrix_normalised.apply(lambda cell: (cell/norm(cell)), axis=1) #Normalises the feature matrix\n",
    "targetRecipeData=features_matrix_normalised.loc[476] #Row location of 'Chicken and coconut curry'\n",
    "\n",
    "dotCalculation=(features_matrix_normalised.dot(targetRecipeData)) #Performs dot product between feature vector of the target recipe, and the normalised feature matrix\n",
    "\n",
    "#Stores the recipe recommendations in descending order in a new dataframe, and prints out top 10\n",
    "similar_to_targetRecipe = pd.DataFrame(dotCalculation, columns = ['similarity'])\n",
    "top_10_recommendations=similar_to_targetRecipe.sort_values(by='similarity', ascending=False).head(11)\n",
    "print(\"Top 10 recommendations 'Chicken and coconut curry' \")\n",
    "for i in top_10_recommendations.index[1:11]:\n",
    "    print((\"Recipe ID: \", i+1, \"Name: \",recipes.iloc[i, 1], \"Similarity: \",top_10_recommendations.loc[i][0]))\n",
    "\n",
    "        \n",
    "#Uncomment for double check\n",
    "#firstRecommendation=features_matrix_normalised.loc[3004] #Row location for 'Vegan blackeye bean curry' - which is most similar recipe\n",
    "#cosine_similarity(targetRecipeData.to_numpy().reshape(1,2493), firstRecommendation.to_numpy().reshape(1, 2493)) #Gives 0.74194083 which matches similarity"
   ]
  },
  {
   "cell_type": "markdown",
   "id": "d18390ae",
   "metadata": {},
   "source": [
    "# Task 4"
   ]
  },
  {
   "cell_type": "markdown",
   "id": "1e47d91f",
   "metadata": {},
   "source": [
    "Write a function, vec_space_method, which takes in a recipe and returns the 10 most\n",
    "similar recipes to the given one. Do this using a suitable matrix-vector product in the\n",
    "Vector Space Method. This has to be different from what is carried out in Part 1.3\n",
    "since you have considered the entire dataset."
   ]
  },
  {
   "cell_type": "code",
   "execution_count": 11,
   "id": "ddcde7aa",
   "metadata": {},
   "outputs": [
    {
     "name": "stderr",
     "output_type": "stream",
     "text": [
      "C:\\Users\\mgadi\\anaconda3\\lib\\site-packages\\sklearn\\utils\\deprecation.py:87: FutureWarning: Function get_feature_names is deprecated; get_feature_names is deprecated in 1.0 and will be removed in 1.2. Please use get_feature_names_out instead.\n",
      "  warnings.warn(msg, category=FutureWarning)\n"
     ]
    },
    {
     "name": "stdout",
     "output_type": "stream",
     "text": [
      "Recipe recommendations for Chicken and coconut curry\n",
      "('Recipe ID: ', 507, 'Name: ', 'Chicken curry (shorshe murgi)', 'Similarity: ', 0.7909190324429853)\n",
      "('Recipe ID: ', 2817, 'Name: ', 'Suriani home-style chicken curry (‘ishtu’)', 'Similarity: ', 0.7858149771473384)\n",
      "('Recipe ID: ', 2521, 'Name: ', 'Slow cooker chicken curry', 'Similarity: ', 0.7765850159273674)\n",
      "('Recipe ID: ', 92, 'Name: ', 'Baked chicken curry', 'Similarity: ', 0.7765438241708553)\n",
      "('Recipe ID: ', 777, 'Name: ', 'Coconut fish curry', 'Similarity: ', 0.7755560066680673)\n",
      "('Recipe ID: ', 2193, 'Name: ', 'Quick beef massaman curry with coconut rice', 'Similarity: ', 0.7751317348031104)\n",
      "('Recipe ID: ', 3290, 'Name: ', 'Punjabi chicken curry ', 'Similarity: ', 0.7675682707501367)\n",
      "('Recipe ID: ', 608, 'Name: ', 'Chinese chicken curry', 'Similarity: ', 0.766988201443561)\n",
      "('Recipe ID: ', 1478, 'Name: ', 'Jamaican chicken curry', 'Similarity: ', 0.7648455538296518)\n",
      "('Recipe ID: ', 909, 'Name: ', 'Dad’s Chinese chicken curry', 'Similarity: ', 0.7647985031841982)\n"
     ]
    }
   ],
   "source": [
    "def vec_space_method(recipeName):\n",
    "    \"\"\"\n",
    "    This function takes a recipe name as an input and recommends 10 similar recipes\n",
    "    based on their features (ingredients, category, cuisine, total time, rating average, title) and using the Vector Space Method.\n",
    "    It returns the top 10 recommended recipes with their recipe ID, name and similarity score.\n",
    "    \"\"\"\n",
    "    recipesFiltering=recipes\n",
    "   \n",
    "    recipeNameIndex=(recipes.loc[recipes['title'] == recipeName].index)[0] #Locates row number of target recipe name\n",
    "    recipeNameIngredients=recipes.loc[recipeNameIndex]['ingredients']      #Locates ingredients column of target recipe\n",
    "    recipeNameIngredients=recipeNameIngredients.split(',') #Splits ingredients into a list  \n",
    "    \n",
    "    feat1=recipesFiltering['ingredients'].str.get_dummies(sep=',') #Converts to a binary matrix\n",
    "    feat1 = feat1[feat1.columns[feat1.columns.isin(recipeNameIngredients)]] #Only includes ingredient columns as part of the target recipe's ingredients, not the whole database collection of ingredients\n",
    "    feat1=feat1/norm(feat1)  #Normalisation\n",
    "  \n",
    "    feat2=recipesFiltering['category'].str.get_dummies() #Converts to binary matrix\n",
    "    feat2=feat2.drop(columns=['Unknown']) #Drops Unknown columns as it is not a distinctive feature (instead of dropping the entire row earlier at the beginning of notebook)\n",
    "    feat2=feat2/norm(feat2) #Normalisation\n",
    "   \n",
    "    feat3=recipesFiltering['cuisine'].str.get_dummies() #Converts to binary matrix\n",
    "    feat3=feat3.drop(columns=['Unknown']) #Drops Unknown columns as it is not a distinctive feature (instead of dropping the entire row earlier at the beginning of notebook)\n",
    "    feat3=feat3/norm(feat3) #Normalisation\n",
    " \n",
    "    feat4=recipesFiltering['total_time']\n",
    "    feat4=feat4/norm(feat4) #Normalisation\n",
    "    \n",
    "    feat5=recipesFiltering['rating_avg']\n",
    "    feat5=feat5/norm(feat5) #Normalisation\n",
    "    \n",
    "    \n",
    "    #Converts recipe titles to a binary matrix (leaving out non meaningful words such as 'a') \n",
    "    vectorizer = CountVectorizer(stop_words='english')\n",
    "    feat6=pd.DataFrame(vectorizer.fit_transform(recipesFiltering['title']).todense(), columns=vectorizer.get_feature_names())\n",
    "    \n",
    "    keyWordsRecipeName=recipeName.split() #Creates a list where each word is a word in the target recipe's title\n",
    "    keyWordsRecipeName=[word.lower() for word in keyWordsRecipeName]\n",
    "    feat6 = feat6[feat6.columns[feat6.columns.isin(keyWordsRecipeName)]] #Only includes the target recipe's title terms, not all throughout the dataframe\n",
    "    feat6=feat6/norm(feat6) #Normalisation\n",
    "    \n",
    "    #Merges all normalised feature matrices\n",
    "    features=feat1.merge(feat2, left_index=True, right_index=True)\n",
    "    features=features.merge(feat3, left_index=True, right_index=True)\n",
    "    features=features.merge(feat4, left_index=True, right_index=True)\n",
    "    features=features.merge(feat5, left_index=True, right_index=True)\n",
    "    features=features.merge(feat6, left_index=True, right_index=True)\n",
    "    features_normalised=features.apply(lambda cell: (cell/norm(cell)), axis=1) #Normalisation\n",
    "   \n",
    "    targetRecipe=features_normalised.loc[recipeNameIndex] #Gets the target recipe row\n",
    "    dotCalc=features_normalised.dot(targetRecipe) #Performs dot product and all the other rows of the combined features matrix\n",
    "    \n",
    "    #Stores the recipe recommendations in descending order in a new dataframe, and prints out top 10\n",
    "    similar_to_targetRecipe = pd.DataFrame(dotCalc, columns = ['similarity'])\n",
    "    top_10=similar_to_targetRecipe.sort_values(by='similarity', ascending=False).head(15)\n",
    "    print(\"Recipe recommendations for \"+recipeName)\n",
    "    for i in top_10.index[1:11]:\n",
    "        print((\"Recipe ID: \", i+1, \"Name: \",recipes.iloc[i, 1], \"Similarity: \",top_10.loc[i][0]))\n",
    "    \n",
    "vec_space_method('Chicken and coconut curry')"
   ]
  },
  {
   "cell_type": "markdown",
   "id": "996670fb",
   "metadata": {},
   "source": [
    "# Task 5"
   ]
  },
  {
   "cell_type": "markdown",
   "id": "d7555a87",
   "metadata": {},
   "source": [
    "Write a function, knn_similarity, which takes in a recipe and returns the 10 most similar\n",
    "recipes to the given one. Do this considering the entire dataset and using the KNN\n",
    "algorithm."
   ]
  },
  {
   "cell_type": "code",
   "execution_count": 12,
   "id": "eda470a7",
   "metadata": {},
   "outputs": [
    {
     "name": "stderr",
     "output_type": "stream",
     "text": [
      "C:\\Users\\mgadi\\anaconda3\\lib\\site-packages\\sklearn\\utils\\deprecation.py:87: FutureWarning: Function get_feature_names is deprecated; get_feature_names is deprecated in 1.0 and will be removed in 1.2. Please use get_feature_names_out instead.\n",
      "  warnings.warn(msg, category=FutureWarning)\n"
     ]
    },
    {
     "name": "stdout",
     "output_type": "stream",
     "text": [
      "Recommendation for Chicken and coconut curry\n",
      "1: Salmon curry  with similarity of 0.7562173131636669\n",
      "2: Chicken and vegetable balti with similarity of 0.7546210615394816\n",
      "3: Chicken curry (shorshe murgi) with similarity of 0.7318778697139526\n",
      "4: Chicken curry for one with similarity of 0.7318052132496718\n",
      "5: Kidney bean and pineapple curry  with similarity of 0.7237371073996939\n",
      "6: Quick vegetable curry with similarity of 0.7229329275843159\n",
      "7: Peanut butter chicken with similarity of 0.7121551516624562\n",
      "8: Roast chicken with similarity of 0.7088175953607129\n",
      "9: Beef curry with shatkora with similarity of 0.7046621375168924\n",
      "10: Chicken pithivier with similarity of 0.7003586763069803\n"
     ]
    }
   ],
   "source": [
    "def knn_similarity(recipeName):\n",
    "    \"\"\"\n",
    "    This function takes a recipe name as an input and recommends 10 similar recipes\n",
    "    based on their features (ingredients, category, cuisine, total time, rating average, title, rating value) and using the K-Nearest Neighbours algorithm.\n",
    "    It returns the top 10 recommended recipes with their name and similarity score.\n",
    "    \"\"\"\n",
    "    recipesFiltering=recipes\n",
    "   \n",
    "    feat1=recipesFiltering['ingredients'].str.get_dummies(sep=',') #Converts to binary matrix\n",
    "    feat1=feat1/norm(feat1) #Normalises\n",
    "    \n",
    "    feat2=recipesFiltering['category'].str.get_dummies() #Converts to binary matrix\n",
    "    feat2=feat2.drop(columns=['Unknown']) #Drops the column as it is not a distinctive feature\n",
    "    feat2=feat2/norm(feat2) #Normalises\n",
    "   \n",
    "    feat3=recipesFiltering['cuisine'].str.get_dummies() #Converts to binary matrix\n",
    "    feat3=feat3.drop(columns=['Unknown']) #Drops the column as it is not a distinctive feature\n",
    "    feat3=feat3/norm(feat3) #Normalises\n",
    "    \n",
    "    feat4=recipesFiltering['total_time']\n",
    "    feat4=feat4/norm(feat4) #Normalises\n",
    "   \n",
    "    feat5=recipesFiltering['rating_avg']\n",
    "    feat5=feat5/norm(feat5) #Normalises\n",
    "\n",
    "    #Converts recipe titles to a binary matrix (leaving out non meaningful words such as 'a') \n",
    "    vectorizer = CountVectorizer(stop_words='english')\n",
    "    feat6=pd.DataFrame(vectorizer.fit_transform(recipesFiltering['title']).todense(), columns=vectorizer.get_feature_names())\n",
    "    feat6=feat6/norm(feat6) #Normalises\n",
    "\n",
    "    feat7=recipesFiltering['rating_val']\n",
    "    feat7=feat7/norm(feat7) #Normalises\n",
    "\n",
    "    #Merges all the features into a big dataframe\n",
    "    features=feat1.merge(feat2, left_index=True, right_index=True)\n",
    "    features=features.merge(feat3, left_index=True, right_index=True)\n",
    "    features=features.merge(feat4, left_index=True, right_index=True)\n",
    "    features=features.merge(feat5, left_index=True, right_index=True)\n",
    "    features=features.merge(feat6, left_index=True, right_index=True)\n",
    "    features=features.merge(feat7, left_index=True, right_index=True)\n",
    "    \n",
    "    sparseMatrix=csr_matrix(features.values) #Creates a sparse matrix from the features dataframe\n",
    "    \n",
    "    knn_model = NearestNeighbors(metric='cosine', algorithm='auto', n_neighbors=20, n_jobs=-1) #Iniitalises the KNN model\n",
    "    knn_model.fit(sparseMatrix) #Fits the sparseMatrix\n",
    "    \n",
    "    recipeIndex=recipes.loc[recipes['title'] == recipeName].index #Gets the row index of the target recipe\n",
    "    pt_of_interest=features.iloc[recipeIndex[0], :] #Gets the target recipe corresponding details rom the features dataframe\n",
    "    pt_of_interest=pt_of_interest.to_numpy() #Converts to numpy array (so it can be reshaped)\n",
    "    \n",
    "    dist, ind = knn_model.kneighbors(pt_of_interest.reshape(1, -1) , n_neighbors=11) #Calculates the distance and index of k-nearest neighbours\n",
    "    \n",
    "    #Prints out the top 10 recipe recommendations\n",
    "    print(\"Recommendation for \"+recipeName)\n",
    "    for i in range(1, len(dist.flatten())):\n",
    "        print('{0}: {1} with similarity of {2}'.format(i, recipes.iloc[ind.flatten()[i]]['title'], (1-(dist.flatten()[i]))))\n",
    "\n",
    "\n",
    "knn_similarity('Chicken and coconut curry')\n",
    "\n",
    "\n"
   ]
  },
  {
   "cell_type": "markdown",
   "id": "8a971220",
   "metadata": {},
   "source": [
    "# Task 6"
   ]
  },
  {
   "cell_type": "markdown",
   "id": "94c1dc01",
   "metadata": {},
   "source": [
    "Consider the following test set composed of four users: \n",
    "\n",
    "User 1 likes ‘Chicken tikka masala’\n",
    "\n",
    "User 2 likes ‘Albanian baked lamb with rice’\n",
    "\n",
    "User 3 likes ‘Baked salmon with chorizo rice’\n",
    "\n",
    "User 4 likes ‘Almond lentil stew’\n",
    "\n",
    "\n",
    "Using this test set, evaluate both recommender systems you have built up in Part 2.4\n",
    "and 2.5 in terms of coverage and personalisation. You can add comments on this\n",
    "evaluation into your submitted Python code file"
   ]
  },
  {
   "cell_type": "markdown",
   "id": "71da76df",
   "metadata": {},
   "source": [
    "## Coverage for 2.4"
   ]
  },
  {
   "cell_type": "markdown",
   "id": "720748f7",
   "metadata": {},
   "source": [
    "#### 2.4 only gives the top 10 most similar recommendations, so as there are a total of 3292 recipes it can recommend (minus 1 as the target recipe cannot be recommended against itself), so coverage=(10/3292)*100 = 0.304% coverage ,meaning that the recommender system is only recommending 0.304% of all available recipes to the user\n",
    "\n",
    "#### This recommender system is only recommending a very small subset of recipes. This could have further implications, such as the user not being able to be exposed to and explore a wide range of new recipes. However 10 is a standard amount of recommendations and suggesting more may cause information overload to the user, as it is known that a user spends more time making a decision when they have more options presented to them, which eventually leads to user frustration."
   ]
  },
  {
   "cell_type": "markdown",
   "id": "615fbc8d",
   "metadata": {},
   "source": [
    "## Coverage for 2.5"
   ]
  },
  {
   "cell_type": "markdown",
   "id": "096c00af",
   "metadata": {},
   "source": [
    "#### 2.5 only gives the top 10 most similar recommendations, so as there are a total of 3292 recipes it can recommend (minus 1 as the target recipe cannot be recommended against itself), so coverage=(10/3292)*100 = 0.304% coverage ,meaning that the recommender system is only recommending 0.304% of all available recipes to the user \n",
    "\n",
    "#### This recommender system is only recommending a very small subset of recipes. This could have further implications, such as the user not being able to be exposed to and explore a wide range of new recipes. However 10 is a standard amount of recommendations and suggesting more may cause information overload to the user, as it is known that a user spends more time making a decision when they have more options presented to them, which eventually leads to user frustration."
   ]
  },
  {
   "cell_type": "markdown",
   "id": "f375139a",
   "metadata": {},
   "source": [
    "## Personalisation for 2.4"
   ]
  },
  {
   "cell_type": "markdown",
   "id": "552ce689",
   "metadata": {},
   "source": [
    "#### First we list all the recommendations for the 4 user liked recipes"
   ]
  },
  {
   "cell_type": "code",
   "execution_count": 13,
   "id": "6ebf08e0",
   "metadata": {
    "scrolled": true
   },
   "outputs": [
    {
     "name": "stderr",
     "output_type": "stream",
     "text": [
      "C:\\Users\\mgadi\\anaconda3\\lib\\site-packages\\sklearn\\utils\\deprecation.py:87: FutureWarning: Function get_feature_names is deprecated; get_feature_names is deprecated in 1.0 and will be removed in 1.2. Please use get_feature_names_out instead.\n",
      "  warnings.warn(msg, category=FutureWarning)\n"
     ]
    },
    {
     "name": "stdout",
     "output_type": "stream",
     "text": [
      "Recipe recommendations for Chicken tikka masala\n",
      "('Recipe ID: ', 3257, 'Name: ', 'Low-fat chicken tikka masala', 'Similarity: ', 0.8362395107658351)\n",
      "('Recipe ID: ', 964, 'Name: ', 'Easy chicken tikka masala', 'Similarity: ', 0.8189139704086429)\n",
      "('Recipe ID: ', 563, 'Name: ', 'Chicken tikka and naan bread', 'Similarity: ', 0.7711313807647109)\n",
      "('Recipe ID: ', 325, 'Name: ', 'Butter chicken   ', 'Similarity: ', 0.7588662004448198)\n",
      "('Recipe ID: ', 2304, 'Name: ', 'Roast chicken masala and potatoes', 'Similarity: ', 0.7562300238736078)\n",
      "('Recipe ID: ', 3281, 'Name: ', 'Oven-fried chicken', 'Similarity: ', 0.7371983354802497)\n",
      "('Recipe ID: ', 2853, 'Name: ', 'Tandoori chicken lollipop drumsticks with raita dip', 'Similarity: ', 0.7276740206622327)\n",
      "('Recipe ID: ', 3218, 'Name: ', 'Duck tikka', 'Similarity: ', 0.7201959479586936)\n",
      "('Recipe ID: ', 1016, 'Name: ', 'Easy tandoori chicken', 'Similarity: ', 0.7149487105064253)\n",
      "('Recipe ID: ', 475, 'Name: ', 'Chicken and chorizo stew', 'Similarity: ', 0.7070515880558998)\n"
     ]
    },
    {
     "name": "stderr",
     "output_type": "stream",
     "text": [
      "C:\\Users\\mgadi\\anaconda3\\lib\\site-packages\\sklearn\\utils\\deprecation.py:87: FutureWarning: Function get_feature_names is deprecated; get_feature_names is deprecated in 1.0 and will be removed in 1.2. Please use get_feature_names_out instead.\n",
      "  warnings.warn(msg, category=FutureWarning)\n"
     ]
    },
    {
     "name": "stdout",
     "output_type": "stream",
     "text": [
      "Recipe recommendations for Albanian baked lamb with rice (Tavë kosi)\n",
      "('Recipe ID: ', 103, 'Name: ', 'Baked salmon with chorizo rice', 'Similarity: ', 0.6991222325518001)\n",
      "('Recipe ID: ', 93, 'Name: ', 'Baked chicken, prawn and chorizo rice', 'Similarity: ', 0.6991141153110534)\n",
      "('Recipe ID: ', 65, 'Name: ', 'Aubergines in tamarind sauce with baked halloumi and saffron rice', 'Similarity: ', 0.6836291761263908)\n",
      "('Recipe ID: ', 1819, 'Name: ', 'Moroccan lamb lasagne ', 'Similarity: ', 0.5369492044277149)\n",
      "('Recipe ID: ', 2329, 'Name: ', 'Roast shoulder of lamb with herbs and honey', 'Similarity: ', 0.5275239993799877)\n",
      "('Recipe ID: ', 3149, 'Name: ', 'Whole baked sea bass on potatoes', 'Similarity: ', 0.5275167687895268)\n",
      "('Recipe ID: ', 1631, 'Name: ', 'Lighter lamb hotpot', 'Similarity: ', 0.5274832139757322)\n",
      "('Recipe ID: ', 2647, 'Name: ', 'Spiced lamb shanks', 'Similarity: ', 0.5274355902319764)\n",
      "('Recipe ID: ', 100, 'Name: ', 'Baked potato with bacon, taleggio and leek', 'Similarity: ', 0.5274355902319764)\n",
      "('Recipe ID: ', 1689, 'Name: ', 'Marsala lamb chops with smothered onions and fried kidneys', 'Similarity: ', 0.5263967789333285)\n"
     ]
    },
    {
     "name": "stderr",
     "output_type": "stream",
     "text": [
      "C:\\Users\\mgadi\\anaconda3\\lib\\site-packages\\sklearn\\utils\\deprecation.py:87: FutureWarning: Function get_feature_names is deprecated; get_feature_names is deprecated in 1.0 and will be removed in 1.2. Please use get_feature_names_out instead.\n",
      "  warnings.warn(msg, category=FutureWarning)\n"
     ]
    },
    {
     "name": "stdout",
     "output_type": "stream",
     "text": [
      "Recipe recommendations for Baked salmon with chorizo rice\n",
      "('Recipe ID: ', 93, 'Name: ', 'Baked chicken, prawn and chorizo rice', 'Similarity: ', 0.8416209541118753)\n",
      "('Recipe ID: ', 474, 'Name: ', 'Chicken and chorizo rice', 'Similarity: ', 0.7068936950520484)\n",
      "('Recipe ID: ', 102, 'Name: ', 'Baked salmon and couscous parcels', 'Similarity: ', 0.7068936376467795)\n",
      "('Recipe ID: ', 701, 'Name: ', 'Chorizo and butterbean stew with baked potatoes', 'Similarity: ', 0.6952386674480435)\n",
      "('Recipe ID: ', 104, 'Name: ', 'Baked salmon with parmesan and parsley crust', 'Similarity: ', 0.6889208506864963)\n",
      "('Recipe ID: ', 65, 'Name: ', 'Aubergines in tamarind sauce with baked halloumi and saffron rice', 'Similarity: ', 0.6885024296060478)\n",
      "('Recipe ID: ', 4, 'Name: ', 'Albanian baked lamb with rice (Tavë kosi)', 'Similarity: ', 0.6824274158438997)\n",
      "('Recipe ID: ', 891, 'Name: ', 'Crispy salmon, polenta chips and grilled asparagus', 'Similarity: ', 0.5552067885880865)\n",
      "('Recipe ID: ', 554, 'Name: ', 'Chicken stew with chorizo and beans', 'Similarity: ', 0.554994608481656)\n",
      "('Recipe ID: ', 708, 'Name: ', 'Chorizo with colcannon and paprika gravy ', 'Similarity: ', 0.5473417649498508)\n"
     ]
    },
    {
     "name": "stderr",
     "output_type": "stream",
     "text": [
      "C:\\Users\\mgadi\\anaconda3\\lib\\site-packages\\sklearn\\utils\\deprecation.py:87: FutureWarning: Function get_feature_names is deprecated; get_feature_names is deprecated in 1.0 and will be removed in 1.2. Please use get_feature_names_out instead.\n",
      "  warnings.warn(msg, category=FutureWarning)\n"
     ]
    },
    {
     "name": "stdout",
     "output_type": "stream",
     "text": [
      "Recipe recommendations for Almond lentil stew\n",
      "('Recipe ID: ', 1620, 'Name: ', 'Lentil stew with sweet onions', 'Similarity: ', 0.7888047011081547)\n",
      "('Recipe ID: ', 2431, 'Name: ', 'Sausage and lentil stew ', 'Similarity: ', 0.7744344279264935)\n",
      "('Recipe ID: ', 1618, 'Name: ', \"Lentil shepherd's pie\", 'Similarity: ', 0.6009392603560579)\n",
      "('Recipe ID: ', 1615, 'Name: ', 'Lentil bolognese', 'Similarity: ', 0.59481932934646)\n",
      "('Recipe ID: ', 3288, 'Name: ', 'Pumpkin stew with sour cream', 'Similarity: ', 0.5947592959214698)\n",
      "('Recipe ID: ', 3291, 'Name: ', 'Puy lentil lasagne', 'Similarity: ', 0.5886982606385827)\n",
      "('Recipe ID: ', 2574, 'Name: ', 'Smoked pancetta and lentil soup', 'Similarity: ', 0.5886932962504625)\n",
      "('Recipe ID: ', 1307, 'Name: ', 'Healthy bacon and lentil soup', 'Similarity: ', 0.585721408047613)\n",
      "('Recipe ID: ', 1053, 'Name: ', 'Fennel and butternut squash stew with cannellini beans', 'Similarity: ', 0.5822685648140702)\n",
      "('Recipe ID: ', 443, 'Name: ', 'Cheesy bean and lentil bake ', 'Similarity: ', 0.5821527816378311)\n"
     ]
    }
   ],
   "source": [
    "#Listing recommendations\n",
    "vec_space_method('Chicken tikka masala')\n",
    "vec_space_method('Albanian baked lamb with rice (Tavë kosi)')\n",
    "vec_space_method('Baked salmon with chorizo rice')\n",
    "vec_space_method('Almond lentil stew')\n",
    "\n"
   ]
  },
  {
   "cell_type": "markdown",
   "id": "097f2fbb",
   "metadata": {},
   "source": [
    "#### We make a binary matrix of the recommendations for each user liked recipe. Here there are 38 unique recipes, as 2 of the recipes (\"Baked chicken, prawn and chorizo rice\" and \"Aubergines in tamarind sauce with baked halloumi and saffron rice\") appear in the recommendations for the second and third user liked recipe\n",
    "\n",
    "\n",
    "#### We then produce a cosine similarity matrix from the binary matrix, and calculate the average cosine similarity by averageing the \"upper triangle values\". \n",
    "\n",
    "#### We finally calculate the personalisation metric, which is 1-average cosine similarity, which equals to 0.9666666666666667 for this vector space recommender system.\n",
    "\n",
    "#### This value of 0.9666.. implies that the recommender system is able to recommend items that are highly personalised to the user's preferences.\n",
    "\n",
    "#### The code for all this is below:"
   ]
  },
  {
   "cell_type": "code",
   "execution_count": 14,
   "id": "43947ec9",
   "metadata": {},
   "outputs": [
    {
     "name": "stdout",
     "output_type": "stream",
     "text": [
      "0.9666666666666667\n"
     ]
    }
   ],
   "source": [
    "#Producing the binary matrix\n",
    "evaluatingVectorSpaceMethod = pd.DataFrame({\n",
    "    #First recipe 10\n",
    "    'Low-fat chicken tikka masala': [1, 0, 0, 0],\n",
    "    'Easy chicken tikka masala': [1, 0, 0, 0],\n",
    "    'Chicken tikka and naan bread': [1, 0, 0, 0],\n",
    "    'Butter chicken': [1, 0, 0, 0],\n",
    "    'Roast chicken masala and potatoes': [1, 0, 0, 0],\n",
    "    'Oven-fried chicken': [1, 0, 0, 0],\n",
    "    'Tandoori chicken lollipop drumsticks with raita dip': [1, 0, 0, 0],\n",
    "    'Duck tikka': [1, 0, 0, 0],\n",
    "    'Easy tandoori chicken': [1, 0, 0, 0],\n",
    "    'Chicken and chorizo stew': [1, 0, 0, 0],\n",
    "    \n",
    "    #Second recipe 10\n",
    "    'Baked salmon with chorizo rice': [0, 1, 0, 0],\n",
    "    'Baked chicken, prawn and chorizo rice': [0, 1, 1, 0],   #REPEATERS\n",
    "    'Aubergines in tamarind sauce with baked halloumi and saffron rice': [0, 1, 1, 0],  #REPEATERS\n",
    "    'Moroccan lamb lasagne': [0, 1, 0, 0],\n",
    "    'Roast shoulder of lamb with herbs and honey': [0, 1, 0, 0],\n",
    "    'Whole baked sea bass on potatoes': [0, 1, 0, 0],\n",
    "    'Lighter lamb hotpot': [0, 1, 0, 0],\n",
    "    'Spiced lamb shanks': [0, 1, 0, 0],\n",
    "    'Baked potato with bacon, taleggio and leek': [0, 1, 0, 0],\n",
    "    'Marsala lamb chops with smothered onions and fried kidneys': [0, 1, 0, 0],\n",
    "    \n",
    "    #Third recipe 10 (minus 2 repeaters)\n",
    "    'Chicken and chorizo rice': [0, 0, 1, 0],\n",
    "    'Baked salmon and couscous parcels': [0, 0, 1, 0],\n",
    "    'Chorizo and butterbean stew with baked potatoes': [0, 0, 1, 0],\n",
    "    'Baked salmon with parmesan and parsley crust': [0, 0, 1, 0],\n",
    "    'Albanian baked lamb with rice (Tavë kosi)': [0, 0, 1, 0],\n",
    "    'Crispy salmon, polenta chips and grilled asparagus': [0, 0, 1, 0],\n",
    "    'Chicken stew with chorizo and beans': [0, 0, 1, 0],\n",
    "    'Chorizo with colcannon and paprika gravy': [0, 0, 1, 0],\n",
    "    \n",
    "    #Fourth recipe 10\n",
    "    'Lentil stew with sweet onions': [0, 0, 0, 1],\n",
    "    'Sausage and lentil stew': [0, 0, 0, 1],\n",
    "    \"Lentil shepherd's pie\": [0, 0, 0, 1],\n",
    "    'Lentil bolognese': [0, 0, 0, 1],\n",
    "    'Pumpkin stew with sour cream': [0, 0, 0, 1],\n",
    "    'Puy lentil lasagne': [0, 0, 0, 1],\n",
    "    'Smoked pancetta and lentil soup': [0, 0, 0, 1],\n",
    "    'Healthy bacon and lentil soup': [0, 0, 0, 1],\n",
    "    'Fennel and butternut squash stew with cannellini beans': [0, 0, 0, 1],\n",
    "    'Cheesy bean and lentil bake': [0, 0, 0, 1]\n",
    "})\n",
    "\n",
    "#Renaming index row names, to the user labels\n",
    "evaluatingVectorSpaceMethod = evaluatingVectorSpaceMethod.rename(index={0: 'U1', 1: 'U2', 2: 'U3', 3:'U4'})\n",
    "\n",
    "#Producing cosine similarity matrix\n",
    "cosineSimilarity=cosine_similarity(evaluatingVectorSpaceMethod)\n",
    "cosineSimilarity=pd.DataFrame(cosineSimilarity, index=evaluatingVectorSpaceMethod.index, columns=evaluatingVectorSpaceMethod.index)\n",
    "#print(cosineSimilarity) #Uncomment to view the cosine similarity matrix\n",
    "\n",
    "#Calculating the average cosine similarity value by including the values of the upper triangle in the cs matrix\n",
    "averageCosineSimilarity = (0 + 0 + 0 + 0 + 0 + 0.2)/6\n",
    "\n",
    "#Calculates the personalisation metric to give 0.9666666666666667\n",
    "personalisationMetric=1-averageCosineSimilarity\n",
    "print(personalisationMetric)"
   ]
  },
  {
   "cell_type": "markdown",
   "id": "cc5a1a15",
   "metadata": {},
   "source": [
    "## Personalisation for 2.5"
   ]
  },
  {
   "cell_type": "markdown",
   "id": "975f08d8",
   "metadata": {},
   "source": [
    "#### First we list all the recommendations for the 4 user liked recipes"
   ]
  },
  {
   "cell_type": "code",
   "execution_count": 15,
   "id": "6b5a7f88",
   "metadata": {},
   "outputs": [
    {
     "name": "stderr",
     "output_type": "stream",
     "text": [
      "C:\\Users\\mgadi\\anaconda3\\lib\\site-packages\\sklearn\\utils\\deprecation.py:87: FutureWarning: Function get_feature_names is deprecated; get_feature_names is deprecated in 1.0 and will be removed in 1.2. Please use get_feature_names_out instead.\n",
      "  warnings.warn(msg, category=FutureWarning)\n"
     ]
    },
    {
     "name": "stdout",
     "output_type": "stream",
     "text": [
      "Recommendation for Chicken tikka masala\n",
      "1: Butter chicken    with similarity of 0.9385848349200165\n",
      "2: Oven-fried chicken with similarity of 0.931136126062594\n",
      "3: Easy tandoori chicken with similarity of 0.9287444385182007\n",
      "4: Easy lamb biryani with similarity of 0.9139570070008181\n",
      "5: Lamb kofta curry with similarity of 0.9131053257510596\n",
      "6: Duck tikka with similarity of 0.8846041140505722\n",
      "7: Chicken and chorizo stew with similarity of 0.880163620616225\n",
      "8: Buttermilk chicken with similarity of 0.876659799465919\n",
      "9: BBQ ‘beer-can’ chicken with similarity of 0.8743057521895886\n",
      "10: Nadiya's dal  with similarity of 0.8614728824764163\n"
     ]
    },
    {
     "name": "stderr",
     "output_type": "stream",
     "text": [
      "C:\\Users\\mgadi\\anaconda3\\lib\\site-packages\\sklearn\\utils\\deprecation.py:87: FutureWarning: Function get_feature_names is deprecated; get_feature_names is deprecated in 1.0 and will be removed in 1.2. Please use get_feature_names_out instead.\n",
      "  warnings.warn(msg, category=FutureWarning)\n"
     ]
    },
    {
     "name": "stdout",
     "output_type": "stream",
     "text": [
      "Recommendation for Albanian baked lamb with rice (Tavë kosi)\n",
      "1: Chicken paprika with similarity of 0.7397993343615625\n",
      "2: Chicken stroganoff with similarity of 0.7169681223654876\n",
      "3: Pierogi  with similarity of 0.713055654437294\n",
      "4: Pork stroganoff with similarity of 0.6993478490080298\n",
      "5: Cheat’s salmon coulibiac with similarity of 0.6958371075183999\n",
      "6: Sausage and chorizo goulash with similarity of 0.6928390166133784\n",
      "7: Pork meatloaf with similarity of 0.690747350256402\n",
      "8: Bigos stew with similarity of 0.6824928229865584\n",
      "9: Beef stroganoff with sautéed potatoes with similarity of 0.6746172452093834\n",
      "10: Creamy paprika chicken with similarity of 0.6711480394360633\n"
     ]
    },
    {
     "name": "stderr",
     "output_type": "stream",
     "text": [
      "C:\\Users\\mgadi\\anaconda3\\lib\\site-packages\\sklearn\\utils\\deprecation.py:87: FutureWarning: Function get_feature_names is deprecated; get_feature_names is deprecated in 1.0 and will be removed in 1.2. Please use get_feature_names_out instead.\n",
      "  warnings.warn(msg, category=FutureWarning)\n"
     ]
    },
    {
     "name": "stdout",
     "output_type": "stream",
     "text": [
      "Recommendation for Baked salmon with chorizo rice\n",
      "1: Chicken and chorizo rice with similarity of 0.7495522113355345\n",
      "2: Baked salmon and couscous parcels with similarity of 0.7456685502712044\n",
      "3: Chorizo and butterbean stew with baked potatoes with similarity of 0.738248751286751\n",
      "4: Healthy chicken and rice with similarity of 0.7242303765941025\n",
      "5: Penne with tomatoes, chorizo and cream with similarity of 0.7241649462264412\n",
      "6: Chickpea and chorizo stew with similarity of 0.7233576653012866\n",
      "7: Creamy pasta with salmon with similarity of 0.7219820454679509\n",
      "8: Lunchbox chorizo frittata with similarity of 0.7165062569160954\n",
      "9: Baked chicken, prawn and chorizo rice with similarity of 0.7146783653833318\n",
      "10: Smoked mackerel pilau rice with similarity of 0.7040248806010567\n"
     ]
    },
    {
     "name": "stderr",
     "output_type": "stream",
     "text": [
      "C:\\Users\\mgadi\\anaconda3\\lib\\site-packages\\sklearn\\utils\\deprecation.py:87: FutureWarning: Function get_feature_names is deprecated; get_feature_names is deprecated in 1.0 and will be removed in 1.2. Please use get_feature_names_out instead.\n",
      "  warnings.warn(msg, category=FutureWarning)\n"
     ]
    },
    {
     "name": "stdout",
     "output_type": "stream",
     "text": [
      "Recommendation for Almond lentil stew\n",
      "1: Lentil bolognese with similarity of 0.7164140120310803\n",
      "2: Lentil stew with sweet onions with similarity of 0.7122312790464309\n",
      "3: Pumpkin stew with sour cream with similarity of 0.6840327839373338\n",
      "4: Mushroom bourguignon with similarity of 0.6797629685731332\n",
      "5: Puy lentil lasagne with similarity of 0.676325725469212\n",
      "6: Smoked pancetta and lentil soup with similarity of 0.6756856574047849\n",
      "7: Campfire stew with similarity of 0.657438612694913\n",
      "8: Lentil shepherd's pie with similarity of 0.6572373692182046\n",
      "9: Christmas quackers with similarity of 0.652869917898219\n",
      "10: Lighter lamb hotpot with similarity of 0.6497469733484205\n"
     ]
    }
   ],
   "source": [
    "#run 2.5 4 times\n",
    "knn_similarity('Chicken tikka masala')\n",
    "knn_similarity('Albanian baked lamb with rice (Tavë kosi)')\n",
    "knn_similarity('Baked salmon with chorizo rice')\n",
    "knn_similarity('Almond lentil stew')"
   ]
  },
  {
   "cell_type": "markdown",
   "id": "8f3bea51",
   "metadata": {},
   "source": [
    "#### We make a binary matrix of the recommendations for each user liked recipe. Here there are 40 unique recipes recommendations, as none of the recipes repeat in another recommendation\n",
    "\n",
    "\n",
    "#### We then produce a cosine similarity matrix from the binary matrix, and calculate the average cosine similarity by averageing the \"upper triangle values\". \n",
    "\n",
    "#### We finally calculate the personalisation metric, which is 1-average cosine similarity, which equals to 1 for this vector space recommender system, as each recommendation is unique and very personalised, and this implies perfect personalisation\n",
    "\n",
    "#### The code for this is below:"
   ]
  },
  {
   "cell_type": "code",
   "execution_count": 16,
   "id": "ae85319e",
   "metadata": {},
   "outputs": [],
   "source": [
    "#Gathering all the recipe outputs that were recommended above\n",
    "recipe_names = [\n",
    "    'Butter chicken',\n",
    "    'Oven-fried chicken',\n",
    "    'Easy tandoori chicken',\n",
    "    'Easy lamb biryani',\n",
    "    'Lamb kofta curry',\n",
    "    'Duck tikka',\n",
    "    'Chicken and chorizo stew',\n",
    "    'Buttermilk chicken',\n",
    "    'BBQ ‘beer-can’ chicken',\n",
    "    \"Nadiya's dal\",\n",
    "    'Chicken paprika',\n",
    "    'Chicken stroganoff',\n",
    "    'Pierogi',\n",
    "    'Pork stroganoff',\n",
    "    \"Cheat’s salmon coulibiac\",\n",
    "    'Sausage and chorizo goulash',\n",
    "    'Pork meatloaf',\n",
    "    'Bigos stew',\n",
    "    'Beef stroganoff with sautéed potatoes',\n",
    "    'Creamy paprika chicken',\n",
    "    'Chicken and chorizo rice',\n",
    "    'Baked salmon and couscous parcels',\n",
    "    'Chorizo and butterbean stew with baked potatoes',\n",
    "    'Healthy chicken and rice',\n",
    "    'Penne with tomatoes, chorizo and cream',\n",
    "    'Chickpea and chorizo stew',\n",
    "    'Creamy pasta with salmon',\n",
    "    'Lunchbox chorizo frittata',\n",
    "    'Baked chicken, prawn and chorizo rice',\n",
    "    'Smoked mackerel pilau rice',\n",
    "    'Lentil bolognese',\n",
    "    'Lentil stew with sweet onions',\n",
    "    'Pumpkin stew with sour cream',\n",
    "    'Mushroom bourguignon',\n",
    "    'Puy lentil lasagne',\n",
    "    'Smoked pancetta and lentil soup',\n",
    "    'Campfire stew',\n",
    "    \"Lentil shepherd's pie\",\n",
    "    'Christmas quackers',\n",
    "    'Lighter lamb hotpot', \n",
    "]\n",
    "\n",
    "#Creating binary matrix\n",
    "evaluatingKNN = pd.DataFrame(columns=recipe_names)\n",
    "firstRow=[1]*10 + [0]*30\n",
    "secondRow=[0]*10 + [1]*10 + [0]*20\n",
    "thirdRow=[0]*20 + [1]*10 + [0]*10\n",
    "fourthRow=[0]*30 + [1]*10\n",
    "evaluatingKNN.loc['U1']=firstRow\n",
    "evaluatingKNN.loc['U2']=secondRow\n",
    "evaluatingKNN.loc['U3']=thirdRow\n",
    "evaluatingKNN.loc['U4']=fourthRow\n",
    "\n",
    "\n",
    "#Creating the cosine similarity matrix\n",
    "cosineSimilarity=cosine_similarity(evaluatingKNN)\n",
    "cosineSimilarity=pd.DataFrame(cosineSimilarity, index=evaluatingKNN.index, columns=evaluatingKNN.index)\n",
    "#print(cosineSimilarity)# Uncomment to view cosine similarity matrix\n",
    "\n",
    "#Average of the upper triangle is 0 so\n",
    "#Personalisation metric = 1-0 = 1 "
   ]
  },
  {
   "cell_type": "markdown",
   "id": "f6036f4b",
   "metadata": {},
   "source": [
    "#### From these 2 recommender systems, both have the same amount of coverage, and both have very high values for personalisation, but the KNN model gives a more unique personalised experince (as it has a higher value and implies perfect personalisation as it has 1)\n",
    "\n",
    "#### So this suggests that the KNN model is the higher quality recommender system"
   ]
  },
  {
   "cell_type": "markdown",
   "id": "5db18c86",
   "metadata": {},
   "source": [
    "# Task 7"
   ]
  },
  {
   "cell_type": "markdown",
   "id": "ab3577bd",
   "metadata": {},
   "source": [
    "Transform the column rating_av of the dataset into a binary format with\n",
    "\n",
    "• 1 representing ’tasty’ for a rating average greater than 4.2,\n",
    "\n",
    "• -1 representing ’not tasty’, otherwise.\n",
    "\n",
    "Build up a model that can predict whether a recipe will be rated as tasty or not.\n",
    "Investigate how accurate is your predictive model. You may consider only average\n",
    "ratings that are significant as found in Part 1.2. "
   ]
  },
  {
   "cell_type": "code",
   "execution_count": 17,
   "id": "4c5c0e46",
   "metadata": {},
   "outputs": [
    {
     "name": "stderr",
     "output_type": "stream",
     "text": [
      "C:\\Users\\mgadi\\anaconda3\\lib\\site-packages\\sklearn\\utils\\deprecation.py:87: FutureWarning: Function get_feature_names is deprecated; get_feature_names is deprecated in 1.0 and will be removed in 1.2. Please use get_feature_names_out instead.\n",
      "  warnings.warn(msg, category=FutureWarning)\n"
     ]
    }
   ],
   "source": [
    "#ANN model takes into account following features:\n",
    "#ingredients, category, cuisine, total_time, rating_avg\n",
    "\n",
    "recipesFiltering= pd.read_csv(\"recipes.csv\")                   #Reads from original csv file\n",
    "recipesFiltering=recipesFiltering.drop(\"Unnamed: 0\", axis=1)   #Drops unwanted, unmeaningful column\n",
    "recipesFiltering.replace(to_replace='^ $', value=np.nan, regex=True, inplace=True) #Assigns a recognisable na value as empty strings are used as na/null in the file\n",
    "recipesFiltering=recipesFiltering.fillna(\"Unknown\")           #Fills the na's with \"Unknown\" so the column feature can later be dropped, instead of dropping rows that contain it\n",
    "recipesFiltering = recipesFiltering[recipesFiltering['rating_val'] > 6] #Only considers average ratings of significance (where rating_val>6) . Refer back to Task 2 for the reasoning behind this.\n",
    "\n",
    "feat1=recipesFiltering['ingredients'].str.get_dummies(sep=',') #Converts to binary matrix\n",
    "feat1=feat1.apply(lambda cell: (cell/norm(cell))) #Normalises\n",
    "\n",
    "feat2=recipesFiltering['category'].str.get_dummies() #Converts to binary matrix\n",
    "feat2=feat2.drop(columns=['Unknown']) #Drops \"Unknown\" column as it is not a distinctive feature\n",
    "feat2=feat2.apply(lambda cell: (cell/norm(cell))) #Normalises\n",
    "\n",
    "feat3=recipesFiltering['cuisine']\n",
    "feat3=feat3.drop(columns=['Unknown']) #Drops \"Unknown\" column as it is not a distinctive feature\n",
    "feat3=feat3.str.get_dummies() #Converts to binary matrix\n",
    "feat3=feat3.apply(lambda cell: (cell/norm(cell))) #Normalises\n",
    "\n",
    "feat4=recipesFiltering['total_time']\n",
    "feat4=feat4/norm(feat4) #Normalises\n",
    "\n",
    "\n",
    "#Creates a binary matrix of words in recipe titles (excluding non meaningful words such as 'a')\n",
    "vectorizer = CountVectorizer(stop_words='english')\n",
    "feat5=pd.DataFrame(vectorizer.fit_transform(recipesFiltering['title']).todense(), columns=vectorizer.get_feature_names())\n",
    "feat5=feat5.apply(lambda cell: (cell/norm(cell))) #Normalises\n",
    "\n",
    "predictor=np.where(recipesFiltering['rating_avg'] > 4.2, 1, -1) #Assigns 1 (Tasty) if rating_avg is above 4.2, if not, then it is -1 (Not tasty)\n",
    "predictor=pd.DataFrame(predictor, columns=['rating_avg']) #Turns the above step into its own dataframe, so it can be merged later\n",
    "\n",
    "#Merges all the features together\n",
    "features=feat1.merge(feat2, left_index=True, right_index=True)\n",
    "features=features.merge(feat3, left_index=True, right_index=True)\n",
    "features=features.merge(feat4, left_index=True, right_index=True)\n",
    "features=features.merge(feat5, left_index=True, right_index=True)\n",
    "features_normalised=features.apply(lambda cell: (cell/norm(cell)), axis=1)\n",
    "\n",
    "#Adds the predictor column on\n",
    "features_normalised=features_normalised.merge(predictor, left_index=True, right_index=True)\n",
    "first_column = features_normalised.pop('rating_avg') #Done to insert the predictor column at the beginning of the dataframe, for easier access later\n",
    "features_normalised.insert(0,'rating_avg', first_column)\n",
    "\n",
    "dataset3=features_normalised.to_numpy() #Converts dataframe to numpy\n",
    "\n",
    "#Next cell contains ANN model work"
   ]
  },
  {
   "cell_type": "markdown",
   "id": "f8806fd0",
   "metadata": {},
   "source": [
    "#### Accuracy of 77.88%"
   ]
  },
  {
   "cell_type": "code",
   "execution_count": 18,
   "id": "3ec9b4eb",
   "metadata": {},
   "outputs": [
    {
     "name": "stdout",
     "output_type": "stream",
     "text": [
      "Epoch 1/150\n",
      "75/75 [==============================] - 1s 2ms/step - loss: 0.6921 - accuracy: 0.6796\n",
      "Epoch 2/150\n",
      "75/75 [==============================] - 0s 2ms/step - loss: 0.6729 - accuracy: 0.7788\n",
      "Epoch 3/150\n",
      "75/75 [==============================] - 0s 2ms/step - loss: 0.6074 - accuracy: 0.7775\n",
      "Epoch 4/150\n",
      "75/75 [==============================] - 0s 2ms/step - loss: 0.4053 - accuracy: 0.7453\n",
      "Epoch 5/150\n",
      "75/75 [==============================] - 0s 2ms/step - loss: 0.0085 - accuracy: 0.6850\n",
      "Epoch 6/150\n",
      "75/75 [==============================] - 0s 2ms/step - loss: -0.5188 - accuracy: 0.6890\n",
      "Epoch 7/150\n",
      "75/75 [==============================] - 0s 2ms/step - loss: -1.1892 - accuracy: 0.6769\n",
      "Epoch 8/150\n",
      "75/75 [==============================] - 0s 2ms/step - loss: -1.9966 - accuracy: 0.6756\n",
      "Epoch 9/150\n",
      "75/75 [==============================] - 0s 2ms/step - loss: -2.9548 - accuracy: 0.6984\n",
      "Epoch 10/150\n",
      "75/75 [==============================] - 0s 2ms/step - loss: -3.9272 - accuracy: 0.7198\n",
      "Epoch 11/150\n",
      "75/75 [==============================] - 0s 2ms/step - loss: -4.8725 - accuracy: 0.7292\n",
      "Epoch 12/150\n",
      "75/75 [==============================] - 0s 2ms/step - loss: -5.7381 - accuracy: 0.7440\n",
      "Epoch 13/150\n",
      "75/75 [==============================] - 0s 2ms/step - loss: -6.5266 - accuracy: 0.7466\n",
      "Epoch 14/150\n",
      "75/75 [==============================] - 0s 2ms/step - loss: -7.2647 - accuracy: 0.7547\n",
      "Epoch 15/150\n",
      "75/75 [==============================] - 0s 2ms/step - loss: -7.9374 - accuracy: 0.7654\n",
      "Epoch 16/150\n",
      "75/75 [==============================] - 0s 2ms/step - loss: -8.5664 - accuracy: 0.7668\n",
      "Epoch 17/150\n",
      "75/75 [==============================] - 0s 2ms/step - loss: -9.1619 - accuracy: 0.7708\n",
      "Epoch 18/150\n",
      "75/75 [==============================] - 0s 2ms/step - loss: -9.7105 - accuracy: 0.7735\n",
      "Epoch 19/150\n",
      "75/75 [==============================] - 0s 2ms/step - loss: -10.2352 - accuracy: 0.7748\n",
      "Epoch 20/150\n",
      "75/75 [==============================] - 0s 2ms/step - loss: -10.7340 - accuracy: 0.7761\n",
      "Epoch 21/150\n",
      "75/75 [==============================] - 0s 2ms/step - loss: -11.2186 - accuracy: 0.7748\n",
      "Epoch 22/150\n",
      "75/75 [==============================] - 0s 2ms/step - loss: -11.6938 - accuracy: 0.7761\n",
      "Epoch 23/150\n",
      "75/75 [==============================] - 0s 2ms/step - loss: -12.1601 - accuracy: 0.7775\n",
      "Epoch 24/150\n",
      "75/75 [==============================] - 0s 2ms/step - loss: -12.6161 - accuracy: 0.7775\n",
      "Epoch 25/150\n",
      "75/75 [==============================] - 0s 2ms/step - loss: -13.0622 - accuracy: 0.7788\n",
      "Epoch 26/150\n",
      "75/75 [==============================] - 0s 2ms/step - loss: -13.4876 - accuracy: 0.7761\n",
      "Epoch 27/150\n",
      "75/75 [==============================] - 0s 2ms/step - loss: -13.9062 - accuracy: 0.7775\n",
      "Epoch 28/150\n",
      "75/75 [==============================] - 0s 2ms/step - loss: -14.3320 - accuracy: 0.7788\n",
      "Epoch 29/150\n",
      "75/75 [==============================] - 0s 2ms/step - loss: -14.7458 - accuracy: 0.7748\n",
      "Epoch 30/150\n",
      "75/75 [==============================] - 0s 2ms/step - loss: -15.1442 - accuracy: 0.7775\n",
      "Epoch 31/150\n",
      "75/75 [==============================] - 0s 2ms/step - loss: -15.5456 - accuracy: 0.7788\n",
      "Epoch 32/150\n",
      "75/75 [==============================] - 0s 2ms/step - loss: -15.9500 - accuracy: 0.7788\n",
      "Epoch 33/150\n",
      "75/75 [==============================] - 0s 2ms/step - loss: -16.3445 - accuracy: 0.7788\n",
      "Epoch 34/150\n",
      "75/75 [==============================] - 0s 2ms/step - loss: -16.7370 - accuracy: 0.7788\n",
      "Epoch 35/150\n",
      "75/75 [==============================] - 0s 2ms/step - loss: -17.1279 - accuracy: 0.7788\n",
      "Epoch 36/150\n",
      "75/75 [==============================] - 0s 1ms/step - loss: -17.5190 - accuracy: 0.7788\n",
      "Epoch 37/150\n",
      "75/75 [==============================] - 0s 2ms/step - loss: -17.9063 - accuracy: 0.7788\n",
      "Epoch 38/150\n",
      "75/75 [==============================] - 0s 2ms/step - loss: -18.2936 - accuracy: 0.7788\n",
      "Epoch 39/150\n",
      "75/75 [==============================] - 0s 2ms/step - loss: -18.6662 - accuracy: 0.7788\n",
      "Epoch 40/150\n",
      "75/75 [==============================] - 0s 2ms/step - loss: -19.0428 - accuracy: 0.7775\n",
      "Epoch 41/150\n",
      "75/75 [==============================] - 0s 2ms/step - loss: -19.4211 - accuracy: 0.7775\n",
      "Epoch 42/150\n",
      "75/75 [==============================] - 0s 2ms/step - loss: -19.7944 - accuracy: 0.7788\n",
      "Epoch 43/150\n",
      "75/75 [==============================] - 0s 1ms/step - loss: -20.1724 - accuracy: 0.7788\n",
      "Epoch 44/150\n",
      "75/75 [==============================] - 0s 2ms/step - loss: -20.5428 - accuracy: 0.7788\n",
      "Epoch 45/150\n",
      "75/75 [==============================] - 0s 1ms/step - loss: -20.9176 - accuracy: 0.7788\n",
      "Epoch 46/150\n",
      "75/75 [==============================] - 0s 2ms/step - loss: -21.2846 - accuracy: 0.7775\n",
      "Epoch 47/150\n",
      "75/75 [==============================] - 0s 1ms/step - loss: -21.6560 - accuracy: 0.7788\n",
      "Epoch 48/150\n",
      "75/75 [==============================] - 0s 1ms/step - loss: -22.0247 - accuracy: 0.7788\n",
      "Epoch 49/150\n",
      "75/75 [==============================] - 0s 1ms/step - loss: -22.3920 - accuracy: 0.7788\n",
      "Epoch 50/150\n",
      "75/75 [==============================] - 0s 2ms/step - loss: -22.7530 - accuracy: 0.7775\n",
      "Epoch 51/150\n",
      "75/75 [==============================] - 0s 2ms/step - loss: -23.1177 - accuracy: 0.7788\n",
      "Epoch 52/150\n",
      "75/75 [==============================] - 0s 2ms/step - loss: -23.4859 - accuracy: 0.7775\n",
      "Epoch 53/150\n",
      "75/75 [==============================] - 0s 1ms/step - loss: -23.8455 - accuracy: 0.7775\n",
      "Epoch 54/150\n",
      "75/75 [==============================] - 0s 2ms/step - loss: -24.2077 - accuracy: 0.7788\n",
      "Epoch 55/150\n",
      "75/75 [==============================] - 0s 1ms/step - loss: -24.5782 - accuracy: 0.7788\n",
      "Epoch 56/150\n",
      "75/75 [==============================] - 0s 2ms/step - loss: -24.9261 - accuracy: 0.7775\n",
      "Epoch 57/150\n",
      "75/75 [==============================] - 0s 2ms/step - loss: -25.2967 - accuracy: 0.7788\n",
      "Epoch 58/150\n",
      "75/75 [==============================] - 0s 2ms/step - loss: -25.6548 - accuracy: 0.7775\n",
      "Epoch 59/150\n",
      "75/75 [==============================] - 0s 2ms/step - loss: -26.0174 - accuracy: 0.7788\n",
      "Epoch 60/150\n",
      "75/75 [==============================] - 0s 2ms/step - loss: -26.3790 - accuracy: 0.7788\n",
      "Epoch 61/150\n",
      "75/75 [==============================] - 0s 2ms/step - loss: -26.7356 - accuracy: 0.7775\n",
      "Epoch 62/150\n",
      "75/75 [==============================] - 0s 2ms/step - loss: -27.0988 - accuracy: 0.7788\n",
      "Epoch 63/150\n",
      "75/75 [==============================] - 0s 2ms/step - loss: -27.4633 - accuracy: 0.7788\n",
      "Epoch 64/150\n",
      "75/75 [==============================] - 0s 1ms/step - loss: -27.8223 - accuracy: 0.7788\n",
      "Epoch 65/150\n",
      "75/75 [==============================] - 0s 1ms/step - loss: -28.1868 - accuracy: 0.7788\n",
      "Epoch 66/150\n",
      "75/75 [==============================] - 0s 1ms/step - loss: -28.5464 - accuracy: 0.7788\n",
      "Epoch 67/150\n",
      "75/75 [==============================] - 0s 1ms/step - loss: -28.9041 - accuracy: 0.7788\n",
      "Epoch 68/150\n",
      "75/75 [==============================] - 0s 2ms/step - loss: -29.2635 - accuracy: 0.7788\n",
      "Epoch 69/150\n",
      "75/75 [==============================] - 0s 1ms/step - loss: -29.6200 - accuracy: 0.7788\n",
      "Epoch 70/150\n",
      "75/75 [==============================] - 0s 1ms/step - loss: -29.9811 - accuracy: 0.7788\n",
      "Epoch 71/150\n",
      "75/75 [==============================] - 0s 2ms/step - loss: -30.3338 - accuracy: 0.7775\n",
      "Epoch 72/150\n",
      "75/75 [==============================] - 0s 2ms/step - loss: -30.6922 - accuracy: 0.7788\n",
      "Epoch 73/150\n",
      "75/75 [==============================] - 0s 1ms/step - loss: -31.0564 - accuracy: 0.7788\n",
      "Epoch 74/150\n",
      "75/75 [==============================] - 0s 2ms/step - loss: -31.4154 - accuracy: 0.7788\n",
      "Epoch 75/150\n",
      "75/75 [==============================] - 0s 2ms/step - loss: -31.7711 - accuracy: 0.7775\n",
      "Epoch 76/150\n",
      "75/75 [==============================] - 0s 2ms/step - loss: -32.1323 - accuracy: 0.7788\n",
      "Epoch 77/150\n",
      "75/75 [==============================] - 0s 2ms/step - loss: -32.4911 - accuracy: 0.7788\n",
      "Epoch 78/150\n",
      "75/75 [==============================] - 0s 2ms/step - loss: -32.8527 - accuracy: 0.7788\n",
      "Epoch 79/150\n",
      "75/75 [==============================] - 0s 2ms/step - loss: -33.2097 - accuracy: 0.7788\n",
      "Epoch 80/150\n",
      "75/75 [==============================] - 0s 1ms/step - loss: -33.5691 - accuracy: 0.7788\n",
      "Epoch 81/150\n"
     ]
    },
    {
     "name": "stdout",
     "output_type": "stream",
     "text": [
      "75/75 [==============================] - 0s 2ms/step - loss: -33.9293 - accuracy: 0.7788\n",
      "Epoch 82/150\n",
      "75/75 [==============================] - 0s 2ms/step - loss: -34.2877 - accuracy: 0.7788\n",
      "Epoch 83/150\n",
      "75/75 [==============================] - 0s 2ms/step - loss: -34.6462 - accuracy: 0.7788\n",
      "Epoch 84/150\n",
      "75/75 [==============================] - 0s 2ms/step - loss: -34.9999 - accuracy: 0.7775\n",
      "Epoch 85/150\n",
      "75/75 [==============================] - 0s 2ms/step - loss: -35.3576 - accuracy: 0.7788\n",
      "Epoch 86/150\n",
      "75/75 [==============================] - 0s 2ms/step - loss: -35.7197 - accuracy: 0.7788\n",
      "Epoch 87/150\n",
      "75/75 [==============================] - 0s 2ms/step - loss: -36.0792 - accuracy: 0.7788\n",
      "Epoch 88/150\n",
      "75/75 [==============================] - 0s 2ms/step - loss: -36.4243 - accuracy: 0.7775\n",
      "Epoch 89/150\n",
      "75/75 [==============================] - 0s 2ms/step - loss: -36.7889 - accuracy: 0.7788\n",
      "Epoch 90/150\n",
      "75/75 [==============================] - 0s 2ms/step - loss: -37.1522 - accuracy: 0.7788\n",
      "Epoch 91/150\n",
      "75/75 [==============================] - 0s 1ms/step - loss: -37.5133 - accuracy: 0.7788\n",
      "Epoch 92/150\n",
      "75/75 [==============================] - 0s 1ms/step - loss: -37.8699 - accuracy: 0.7788\n",
      "Epoch 93/150\n",
      "75/75 [==============================] - 0s 2ms/step - loss: -38.2293 - accuracy: 0.7788\n",
      "Epoch 94/150\n",
      "75/75 [==============================] - 0s 2ms/step - loss: -38.5830 - accuracy: 0.7788\n",
      "Epoch 95/150\n",
      "75/75 [==============================] - 0s 2ms/step - loss: -38.9387 - accuracy: 0.7788\n",
      "Epoch 96/150\n",
      "75/75 [==============================] - 0s 2ms/step - loss: -39.2990 - accuracy: 0.7788\n",
      "Epoch 97/150\n",
      "75/75 [==============================] - 0s 2ms/step - loss: -39.6563 - accuracy: 0.7788\n",
      "Epoch 98/150\n",
      "75/75 [==============================] - 0s 1ms/step - loss: -40.0147 - accuracy: 0.7788\n",
      "Epoch 99/150\n",
      "75/75 [==============================] - 0s 1ms/step - loss: -40.3713 - accuracy: 0.7788\n",
      "Epoch 100/150\n",
      "75/75 [==============================] - 0s 2ms/step - loss: -40.7293 - accuracy: 0.7788\n",
      "Epoch 101/150\n",
      "75/75 [==============================] - 0s 2ms/step - loss: -41.0855 - accuracy: 0.7788\n",
      "Epoch 102/150\n",
      "75/75 [==============================] - 0s 2ms/step - loss: -41.4392 - accuracy: 0.7788\n",
      "Epoch 103/150\n",
      "75/75 [==============================] - 0s 2ms/step - loss: -41.7971 - accuracy: 0.7788\n",
      "Epoch 104/150\n",
      "75/75 [==============================] - 0s 2ms/step - loss: -42.1530 - accuracy: 0.7788\n",
      "Epoch 105/150\n",
      "75/75 [==============================] - 0s 2ms/step - loss: -42.5119 - accuracy: 0.7788\n",
      "Epoch 106/150\n",
      "75/75 [==============================] - 0s 2ms/step - loss: -42.8661 - accuracy: 0.7788\n",
      "Epoch 107/150\n",
      "75/75 [==============================] - 0s 2ms/step - loss: -43.2241 - accuracy: 0.7788\n",
      "Epoch 108/150\n",
      "75/75 [==============================] - 0s 2ms/step - loss: -43.5776 - accuracy: 0.7788\n",
      "Epoch 109/150\n",
      "75/75 [==============================] - 0s 2ms/step - loss: -43.9368 - accuracy: 0.7788\n",
      "Epoch 110/150\n",
      "75/75 [==============================] - 0s 2ms/step - loss: -44.2925 - accuracy: 0.7788\n",
      "Epoch 111/150\n",
      "75/75 [==============================] - 0s 1ms/step - loss: -44.6500 - accuracy: 0.7788\n",
      "Epoch 112/150\n",
      "75/75 [==============================] - 0s 2ms/step - loss: -45.0067 - accuracy: 0.7788\n",
      "Epoch 113/150\n",
      "75/75 [==============================] - 0s 2ms/step - loss: -45.3623 - accuracy: 0.7788\n",
      "Epoch 114/150\n",
      "75/75 [==============================] - 0s 2ms/step - loss: -45.7197 - accuracy: 0.7788\n",
      "Epoch 115/150\n",
      "75/75 [==============================] - 0s 2ms/step - loss: -46.0742 - accuracy: 0.7788\n",
      "Epoch 116/150\n",
      "75/75 [==============================] - 0s 2ms/step - loss: -46.4314 - accuracy: 0.7788\n",
      "Epoch 117/150\n",
      "75/75 [==============================] - 0s 2ms/step - loss: -46.7863 - accuracy: 0.7788\n",
      "Epoch 118/150\n",
      "75/75 [==============================] - 0s 2ms/step - loss: -47.1430 - accuracy: 0.7788\n",
      "Epoch 119/150\n",
      "75/75 [==============================] - 0s 2ms/step - loss: -47.4973 - accuracy: 0.7788\n",
      "Epoch 120/150\n",
      "75/75 [==============================] - 0s 2ms/step - loss: -47.8561 - accuracy: 0.7788\n",
      "Epoch 121/150\n",
      "75/75 [==============================] - 0s 2ms/step - loss: -48.2078 - accuracy: 0.7775\n",
      "Epoch 122/150\n",
      "75/75 [==============================] - 0s 2ms/step - loss: -48.5616 - accuracy: 0.7788\n",
      "Epoch 123/150\n",
      "75/75 [==============================] - 0s 2ms/step - loss: -48.9216 - accuracy: 0.7788\n",
      "Epoch 124/150\n",
      "75/75 [==============================] - 0s 2ms/step - loss: -49.2781 - accuracy: 0.7788\n",
      "Epoch 125/150\n",
      "75/75 [==============================] - 0s 2ms/step - loss: -49.6345 - accuracy: 0.7788\n",
      "Epoch 126/150\n",
      "75/75 [==============================] - 0s 2ms/step - loss: -49.9897 - accuracy: 0.7775\n",
      "Epoch 127/150\n",
      "75/75 [==============================] - 0s 2ms/step - loss: -50.3418 - accuracy: 0.7788\n",
      "Epoch 128/150\n",
      "75/75 [==============================] - 0s 2ms/step - loss: -50.6994 - accuracy: 0.7788\n",
      "Epoch 129/150\n",
      "75/75 [==============================] - 0s 2ms/step - loss: -51.0525 - accuracy: 0.7788\n",
      "Epoch 130/150\n",
      "75/75 [==============================] - 0s 2ms/step - loss: -51.4063 - accuracy: 0.7788\n",
      "Epoch 131/150\n",
      "75/75 [==============================] - 0s 2ms/step - loss: -51.7606 - accuracy: 0.7788\n",
      "Epoch 132/150\n",
      "75/75 [==============================] - 0s 2ms/step - loss: -52.1150 - accuracy: 0.7788\n",
      "Epoch 133/150\n",
      "75/75 [==============================] - 0s 2ms/step - loss: -52.4665 - accuracy: 0.7788\n",
      "Epoch 134/150\n",
      "75/75 [==============================] - 0s 2ms/step - loss: -52.8193 - accuracy: 0.7788\n",
      "Epoch 135/150\n",
      "75/75 [==============================] - 0s 2ms/step - loss: -53.1720 - accuracy: 0.7788\n",
      "Epoch 136/150\n",
      "75/75 [==============================] - 0s 2ms/step - loss: -53.5282 - accuracy: 0.7788\n",
      "Epoch 137/150\n",
      "75/75 [==============================] - 0s 2ms/step - loss: -53.8841 - accuracy: 0.7788\n",
      "Epoch 138/150\n",
      "75/75 [==============================] - 0s 2ms/step - loss: -54.2404 - accuracy: 0.7788\n",
      "Epoch 139/150\n",
      "75/75 [==============================] - 0s 2ms/step - loss: -54.5961 - accuracy: 0.7788\n",
      "Epoch 140/150\n",
      "75/75 [==============================] - 0s 2ms/step - loss: -54.9500 - accuracy: 0.7788\n",
      "Epoch 141/150\n",
      "75/75 [==============================] - 0s 2ms/step - loss: -55.3028 - accuracy: 0.7788\n",
      "Epoch 142/150\n",
      "75/75 [==============================] - 0s 2ms/step - loss: -55.6609 - accuracy: 0.7788\n",
      "Epoch 143/150\n",
      "75/75 [==============================] - 0s 2ms/step - loss: -56.0135 - accuracy: 0.7788\n",
      "Epoch 144/150\n",
      "75/75 [==============================] - 0s 2ms/step - loss: -56.3639 - accuracy: 0.7775\n",
      "Epoch 145/150\n",
      "75/75 [==============================] - 0s 3ms/step - loss: -56.7202 - accuracy: 0.7788\n",
      "Epoch 146/150\n",
      "75/75 [==============================] - 0s 2ms/step - loss: -57.0744 - accuracy: 0.7788\n",
      "Epoch 147/150\n",
      "75/75 [==============================] - 0s 2ms/step - loss: -57.4331 - accuracy: 0.7788\n",
      "Epoch 148/150\n",
      "75/75 [==============================] - 0s 2ms/step - loss: -57.7895 - accuracy: 0.7788\n",
      "Epoch 149/150\n",
      "75/75 [==============================] - 0s 2ms/step - loss: -58.1443 - accuracy: 0.7788\n",
      "Epoch 150/150\n",
      "75/75 [==============================] - 0s 2ms/step - loss: -58.4997 - accuracy: 0.7788\n",
      "24/24 [==============================] - 0s 1ms/step\n",
      "24/24 [==============================] - 0s 2ms/step - loss: -58.6843 - accuracy: 0.7788\n",
      "Accuracy: 77.88\n",
      "predicted 1 (actual 1)\n",
      "predicted 1 (actual 1)\n",
      "predicted 1 (actual 1)\n",
      "predicted 1 (actual 1)\n",
      "predicted 1 (actual 1)\n"
     ]
    }
   ],
   "source": [
    "X = dataset3[:,1:] #Everything other than the target column is the features matrix to help come up with an accurate rating_avg\n",
    "y = dataset3[:,0] #Y is the target column here (which is 'rating_avg' as we inserted it to index 0 previously)\n",
    "\n",
    "#Model has 3 layers, input layer with 8 neurons, hidden layer with 24 neurons, output layer with 1 neuron\n",
    "model = Sequential()\n",
    "model.add(Dense(8, input_dim=X.shape[1], activation='relu'))\n",
    "model.add(Dense(24, activation='tanh'))\n",
    "model.add(Dense(1, activation='sigmoid'))\n",
    "\n",
    "#This compiles the Keras model\n",
    "model.compile(loss='binary_crossentropy', optimizer='adam', metrics=['accuracy'])\n",
    "\n",
    "#Trains the keras model on the dataset\n",
    "model.fit(X, y, epochs=150, batch_size=10, verbose=1) #Kept verbose as 1 so we can check the code is actually making progress as expected\n",
    "\n",
    "#Generates predictions using the trained model\n",
    "predictions = model.predict(X)\n",
    "\n",
    "#As \"sigmoid\" was used for the activation for the last layer (which has an upper and lower limit of 0 and 1)\n",
    "#we mirrored the output so it can give us an output of either 1 or -1, so 50 percent of values are available for either 1 or -1 each depending on the output\n",
    "predictions = np.where(predictions > 0.5, 1, -1)\n",
    "\n",
    "#Evaluates the accuracy of the model on the training data \n",
    "_, accuracy = model.evaluate(X, y)\n",
    "print('Accuracy: %.2f' % (accuracy*100))\n",
    "# summarize the first 5 cases\n",
    "for i in range(5):\n",
    "    print('predicted %d (actual %d)' % (predictions[i], y[i]))\n"
   ]
  },
  {
   "cell_type": "markdown",
   "id": "42209b64",
   "metadata": {},
   "source": [
    "#### This model gives an accuracy of around 77.88%. \n",
    "#### The limitations of this model is that it is being trained and predicted using the same training data, which could lead to overfitting. The accuracy of this model can be improved by splitting up the training data into training and test data, to see how well the model reacts to new data"
   ]
  }
 ],
 "metadata": {
  "kernelspec": {
   "display_name": "Python 3 (ipykernel)",
   "language": "python",
   "name": "python3"
  },
  "language_info": {
   "codemirror_mode": {
    "name": "ipython",
    "version": 3
   },
   "file_extension": ".py",
   "mimetype": "text/x-python",
   "name": "python",
   "nbconvert_exporter": "python",
   "pygments_lexer": "ipython3",
   "version": "3.9.12"
  }
 },
 "nbformat": 4,
 "nbformat_minor": 5
}
